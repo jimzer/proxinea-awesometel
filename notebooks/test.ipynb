{
 "cells": [
  {
   "cell_type": "code",
   "execution_count": 19,
   "metadata": {},
   "outputs": [],
   "source": [
    "import pandas as pd\n",
    "from awesometel.utils import load\n",
    "from datetime import datetime"
   ]
  },
  {
   "cell_type": "code",
   "execution_count": 33,
   "metadata": {},
   "outputs": [],
   "source": [
    "dfs = load()\n",
    "df_products = dfs[\"product_holdings\"]\n",
    "df_products['valid_to'] = pd.to_datetime(df_products['valid_to'], errors=\"coerce\", format='%Y-%m-%d').dt.date\n",
    "df_products['valid_from'] = pd.to_datetime(df_products['valid_from'], errors=\"coerce\", format='%Y-%m-%d').dt.date"
   ]
  },
  {
   "cell_type": "code",
   "execution_count": 39,
   "metadata": {},
   "outputs": [],
   "source": [
    "# Detect active subscriptions\n",
    "current_date = datetime.today().date()\n",
    "# Consider both dates in the future and NaT as active subscriptions\n",
    "df_products['active'] = (df_products['valid_to'] >= current_date) | df_products['valid_to'].isna()\n",
    "\n",
    "# Group by account_id to detect churn\n",
    "account_status = df_products.groupby('account_id').agg({\n",
    "    \"active\": \"sum\",\n",
    "    \"valid_to\": lambda x: x.dropna().max()\n",
    "}).reset_index()\n",
    "account_status['churned'] = account_status['active'] == 0"
   ]
  },
  {
   "cell_type": "code",
   "execution_count": 43,
   "metadata": {},
   "outputs": [
    {
     "data": {
      "text/html": [
       "<div>\n",
       "<style scoped>\n",
       "    .dataframe tbody tr th:only-of-type {\n",
       "        vertical-align: middle;\n",
       "    }\n",
       "\n",
       "    .dataframe tbody tr th {\n",
       "        vertical-align: top;\n",
       "    }\n",
       "\n",
       "    .dataframe thead th {\n",
       "        text-align: right;\n",
       "    }\n",
       "</style>\n",
       "<table border=\"1\" class=\"dataframe\">\n",
       "  <thead>\n",
       "    <tr style=\"text-align: right;\">\n",
       "      <th></th>\n",
       "      <th>account_id</th>\n",
       "      <th>active</th>\n",
       "      <th>valid_to</th>\n",
       "      <th>churned</th>\n",
       "    </tr>\n",
       "  </thead>\n",
       "  <tbody>\n",
       "    <tr>\n",
       "      <th>0</th>\n",
       "      <td>1000</td>\n",
       "      <td>1</td>\n",
       "      <td>2022-06-08</td>\n",
       "      <td>False</td>\n",
       "    </tr>\n",
       "    <tr>\n",
       "      <th>1</th>\n",
       "      <td>1001</td>\n",
       "      <td>5</td>\n",
       "      <td>2021-11-09</td>\n",
       "      <td>False</td>\n",
       "    </tr>\n",
       "    <tr>\n",
       "      <th>2</th>\n",
       "      <td>1002</td>\n",
       "      <td>1</td>\n",
       "      <td>2022-08-22</td>\n",
       "      <td>False</td>\n",
       "    </tr>\n",
       "    <tr>\n",
       "      <th>3</th>\n",
       "      <td>1003</td>\n",
       "      <td>1</td>\n",
       "      <td>2022-03-07</td>\n",
       "      <td>False</td>\n",
       "    </tr>\n",
       "    <tr>\n",
       "      <th>4</th>\n",
       "      <td>1004</td>\n",
       "      <td>0</td>\n",
       "      <td>2022-07-16</td>\n",
       "      <td>True</td>\n",
       "    </tr>\n",
       "    <tr>\n",
       "      <th>...</th>\n",
       "      <td>...</td>\n",
       "      <td>...</td>\n",
       "      <td>...</td>\n",
       "      <td>...</td>\n",
       "    </tr>\n",
       "    <tr>\n",
       "      <th>8933</th>\n",
       "      <td>9995</td>\n",
       "      <td>1</td>\n",
       "      <td>2023-03-06</td>\n",
       "      <td>False</td>\n",
       "    </tr>\n",
       "    <tr>\n",
       "      <th>8934</th>\n",
       "      <td>9996</td>\n",
       "      <td>2</td>\n",
       "      <td>2023-03-09</td>\n",
       "      <td>False</td>\n",
       "    </tr>\n",
       "    <tr>\n",
       "      <th>8935</th>\n",
       "      <td>9997</td>\n",
       "      <td>3</td>\n",
       "      <td>2022-07-15</td>\n",
       "      <td>False</td>\n",
       "    </tr>\n",
       "    <tr>\n",
       "      <th>8936</th>\n",
       "      <td>9998</td>\n",
       "      <td>3</td>\n",
       "      <td>NaN</td>\n",
       "      <td>False</td>\n",
       "    </tr>\n",
       "    <tr>\n",
       "      <th>8937</th>\n",
       "      <td>9999</td>\n",
       "      <td>1</td>\n",
       "      <td>2023-06-02</td>\n",
       "      <td>False</td>\n",
       "    </tr>\n",
       "  </tbody>\n",
       "</table>\n",
       "<p>8938 rows × 4 columns</p>\n",
       "</div>"
      ],
      "text/plain": [
       "      account_id  active    valid_to  churned\n",
       "0           1000       1  2022-06-08    False\n",
       "1           1001       5  2021-11-09    False\n",
       "2           1002       1  2022-08-22    False\n",
       "3           1003       1  2022-03-07    False\n",
       "4           1004       0  2022-07-16     True\n",
       "...          ...     ...         ...      ...\n",
       "8933        9995       1  2023-03-06    False\n",
       "8934        9996       2  2023-03-09    False\n",
       "8935        9997       3  2022-07-15    False\n",
       "8936        9998       3         NaN    False\n",
       "8937        9999       1  2023-06-02    False\n",
       "\n",
       "[8938 rows x 4 columns]"
      ]
     },
     "execution_count": 43,
     "metadata": {},
     "output_type": "execute_result"
    }
   ],
   "source": [
    "account_status"
   ]
  },
  {
   "cell_type": "code",
   "execution_count": 47,
   "metadata": {},
   "outputs": [
    {
     "data": {
      "text/plain": [
       "churned\n",
       "False    6985\n",
       "True     1953\n",
       "dtype: int64"
      ]
     },
     "execution_count": 47,
     "metadata": {},
     "output_type": "execute_result"
    }
   ],
   "source": [
    "account_status.groupby(\"churned\").size()"
   ]
  },
  {
   "cell_type": "code",
   "execution_count": 48,
   "metadata": {},
   "outputs": [
    {
     "data": {
      "text/plain": [
       "(24517, 8)"
      ]
     },
     "execution_count": 48,
     "metadata": {},
     "output_type": "execute_result"
    }
   ],
   "source": [
    "df_products.shape"
   ]
  },
  {
   "cell_type": "markdown",
   "metadata": {},
   "source": [
    "# Check 1"
   ]
  },
  {
   "cell_type": "code",
   "execution_count": 61,
   "metadata": {},
   "outputs": [],
   "source": [
    "df_accounts_info = dfs[\"account_info\"]\n",
    "df_interactions = dfs[\"interactions\"]"
   ]
  },
  {
   "cell_type": "code",
   "execution_count": 63,
   "metadata": {},
   "outputs": [],
   "source": [
    "df_merged = df_accounts_info.merge(account_status, how=\"left\", on=\"account_id\")\n",
    "df_merged = df_merged.merge(df_interactions, how=\"left\", on=\"account_id\")"
   ]
  },
  {
   "cell_type": "code",
   "execution_count": 68,
   "metadata": {},
   "outputs": [
    {
     "data": {
      "text/plain": [
       "8        True\n",
       "9        True\n",
       "10       True\n",
       "18       True\n",
       "19       True\n",
       "         ... \n",
       "16363    True\n",
       "16365    True\n",
       "16366    True\n",
       "16367    True\n",
       "16369    True\n",
       "Name: churned, Length: 3482, dtype: object"
      ]
     },
     "execution_count": 68,
     "metadata": {},
     "output_type": "execute_result"
    }
   ],
   "source": [
    "df_merged.loc[df_merged[\"churned\"] == True]"
   ]
  },
  {
   "cell_type": "code",
   "execution_count": 49,
   "metadata": {},
   "outputs": [],
   "source": []
  },
  {
   "cell_type": "code",
   "execution_count": 50,
   "metadata": {},
   "outputs": [
    {
     "data": {
      "text/html": [
       "<div>\n",
       "<style scoped>\n",
       "    .dataframe tbody tr th:only-of-type {\n",
       "        vertical-align: middle;\n",
       "    }\n",
       "\n",
       "    .dataframe tbody tr th {\n",
       "        vertical-align: top;\n",
       "    }\n",
       "\n",
       "    .dataframe thead th {\n",
       "        text-align: right;\n",
       "    }\n",
       "</style>\n",
       "<table border=\"1\" class=\"dataframe\">\n",
       "  <thead>\n",
       "    <tr style=\"text-align: right;\">\n",
       "      <th></th>\n",
       "      <th>account_id</th>\n",
       "      <th>date</th>\n",
       "      <th>time_in_queue</th>\n",
       "      <th>handling_time_s</th>\n",
       "      <th>call_reason</th>\n",
       "      <th>customer_satisfaction_after_call</th>\n",
       "    </tr>\n",
       "  </thead>\n",
       "  <tbody>\n",
       "    <tr>\n",
       "      <th>0</th>\n",
       "      <td>1000</td>\n",
       "      <td>2023-07-02</td>\n",
       "      <td>26</td>\n",
       "      <td>36</td>\n",
       "      <td>Technical</td>\n",
       "      <td>NaN</td>\n",
       "    </tr>\n",
       "    <tr>\n",
       "      <th>1</th>\n",
       "      <td>1000</td>\n",
       "      <td>2023-11-11</td>\n",
       "      <td>8</td>\n",
       "      <td>52</td>\n",
       "      <td>Billing</td>\n",
       "      <td>NaN</td>\n",
       "    </tr>\n",
       "    <tr>\n",
       "      <th>2</th>\n",
       "      <td>1001</td>\n",
       "      <td>2021-08-05</td>\n",
       "      <td>30</td>\n",
       "      <td>114</td>\n",
       "      <td>Billing</td>\n",
       "      <td>NaN</td>\n",
       "    </tr>\n",
       "    <tr>\n",
       "      <th>3</th>\n",
       "      <td>1001</td>\n",
       "      <td>2023-05-27</td>\n",
       "      <td>14</td>\n",
       "      <td>41</td>\n",
       "      <td>Technical</td>\n",
       "      <td>NaN</td>\n",
       "    </tr>\n",
       "    <tr>\n",
       "      <th>4</th>\n",
       "      <td>1001</td>\n",
       "      <td>2021-10-31</td>\n",
       "      <td>28</td>\n",
       "      <td>64</td>\n",
       "      <td>Technical</td>\n",
       "      <td>5.0</td>\n",
       "    </tr>\n",
       "    <tr>\n",
       "      <th>...</th>\n",
       "      <td>...</td>\n",
       "      <td>...</td>\n",
       "      <td>...</td>\n",
       "      <td>...</td>\n",
       "      <td>...</td>\n",
       "      <td>...</td>\n",
       "    </tr>\n",
       "    <tr>\n",
       "      <th>14685</th>\n",
       "      <td>9995</td>\n",
       "      <td>2023-04-16</td>\n",
       "      <td>48</td>\n",
       "      <td>105</td>\n",
       "      <td>Product</td>\n",
       "      <td>NaN</td>\n",
       "    </tr>\n",
       "    <tr>\n",
       "      <th>14686</th>\n",
       "      <td>9996</td>\n",
       "      <td>2021-09-21</td>\n",
       "      <td>11</td>\n",
       "      <td>80</td>\n",
       "      <td>Billing</td>\n",
       "      <td>1.0</td>\n",
       "    </tr>\n",
       "    <tr>\n",
       "      <th>14687</th>\n",
       "      <td>9996</td>\n",
       "      <td>2023-12-04</td>\n",
       "      <td>72</td>\n",
       "      <td>129</td>\n",
       "      <td>Product</td>\n",
       "      <td>4.0</td>\n",
       "    </tr>\n",
       "    <tr>\n",
       "      <th>14688</th>\n",
       "      <td>9997</td>\n",
       "      <td>2022-12-25</td>\n",
       "      <td>28</td>\n",
       "      <td>72</td>\n",
       "      <td>Billing</td>\n",
       "      <td>4.0</td>\n",
       "    </tr>\n",
       "    <tr>\n",
       "      <th>14689</th>\n",
       "      <td>9998</td>\n",
       "      <td>2022-06-12</td>\n",
       "      <td>28</td>\n",
       "      <td>90</td>\n",
       "      <td>Billing</td>\n",
       "      <td>5.0</td>\n",
       "    </tr>\n",
       "  </tbody>\n",
       "</table>\n",
       "<p>14690 rows × 6 columns</p>\n",
       "</div>"
      ],
      "text/plain": [
       "       account_id        date  time_in_queue  handling_time_s call_reason  \\\n",
       "0            1000  2023-07-02             26               36   Technical   \n",
       "1            1000  2023-11-11              8               52     Billing   \n",
       "2            1001  2021-08-05             30              114     Billing   \n",
       "3            1001  2023-05-27             14               41   Technical   \n",
       "4            1001  2021-10-31             28               64   Technical   \n",
       "...           ...         ...            ...              ...         ...   \n",
       "14685        9995  2023-04-16             48              105     Product   \n",
       "14686        9996  2021-09-21             11               80     Billing   \n",
       "14687        9996  2023-12-04             72              129     Product   \n",
       "14688        9997  2022-12-25             28               72     Billing   \n",
       "14689        9998  2022-06-12             28               90     Billing   \n",
       "\n",
       "       customer_satisfaction_after_call  \n",
       "0                                   NaN  \n",
       "1                                   NaN  \n",
       "2                                   NaN  \n",
       "3                                   NaN  \n",
       "4                                   5.0  \n",
       "...                                 ...  \n",
       "14685                               NaN  \n",
       "14686                               1.0  \n",
       "14687                               4.0  \n",
       "14688                               4.0  \n",
       "14689                               5.0  \n",
       "\n",
       "[14690 rows x 6 columns]"
      ]
     },
     "execution_count": 50,
     "metadata": {},
     "output_type": "execute_result"
    }
   ],
   "source": []
  },
  {
   "cell_type": "code",
   "execution_count": null,
   "metadata": {},
   "outputs": [],
   "source": []
  }
 ],
 "metadata": {
  "kernelspec": {
   "display_name": "proxinea-1hT-04FQ-py3.10",
   "language": "python",
   "name": "python3"
  },
  "language_info": {
   "codemirror_mode": {
    "name": "ipython",
    "version": 3
   },
   "file_extension": ".py",
   "mimetype": "text/x-python",
   "name": "python",
   "nbconvert_exporter": "python",
   "pygments_lexer": "ipython3",
   "version": "3.10.7"
  },
  "orig_nbformat": 4
 },
 "nbformat": 4,
 "nbformat_minor": 2
}
